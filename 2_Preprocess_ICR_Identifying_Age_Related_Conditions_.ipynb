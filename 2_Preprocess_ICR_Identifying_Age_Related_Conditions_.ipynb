{
  "cells": [
    {
      "cell_type": "markdown",
      "metadata": {
        "id": "view-in-github",
        "colab_type": "text"
      },
      "source": [
        "<a href=\"https://colab.research.google.com/github/Dansah2/Identifying_Age_Related_Conditions/blob/main/2_Preprocess_ICR_Identifying_Age_Related_Conditions_.ipynb\" target=\"_parent\"><img src=\"https://colab.research.google.com/assets/colab-badge.svg\" alt=\"Open In Colab\"/></a>"
      ]
    },
    {
      "cell_type": "markdown",
      "metadata": {
        "id": "6NWrKiQ4fRGS"
      },
      "source": [
        "# ICR - Identifying Age-Related Conditions"
      ]
    },
    {
      "cell_type": "markdown",
      "metadata": {
        "id": "tf6F6FaOB0dQ"
      },
      "source": [
        "Kaggle Dataset Download API Command:\n",
        "\n",
        "kaggle competitions download -c icr-identify-age-related-conditions"
      ]
    },
    {
      "cell_type": "markdown",
      "metadata": {
        "id": "RXlEc616CFtt"
      },
      "source": [
        "Predict whether a subject has or has not been diagnosed with one of these conditions -- a binary classification problem."
      ]
    },
    {
      "cell_type": "markdown",
      "metadata": {
        "id": "aEHxmjhghVvK"
      },
      "source": [
        "##Project Outline:\n",
        "\n",
        "1) Download the dataset\n",
        "\n",
        "2) Explore/Analyze the data\n",
        "\n",
        "3) Preprocess and organize the data\n",
        "\n",
        "4) Create and Train baseline Model\n",
        "\n",
        "5) Save the Model"
      ]
    },
    {
      "cell_type": "markdown",
      "metadata": {
        "id": "JqdmA7kIfkiE"
      },
      "source": [
        "## Download the Dataset\n",
        "\n",
        "1) Install required libraries\n",
        "\n",
        "2) Import required libraries\n",
        "\n",
        "3) Download data from Kaggle\n"
      ]
    },
    {
      "cell_type": "markdown",
      "metadata": {
        "id": "khuyKRt5FkpA"
      },
      "source": [
        "#### Install Required Libraries"
      ]
    },
    {
      "cell_type": "code",
      "source": [
        "!pip install -q numpy==1.24.3\n",
        "!pip install -q pandas==2.2.2"
      ],
      "metadata": {
        "id": "UtRLXXUXfqMV"
      },
      "execution_count": null,
      "outputs": []
    },
    {
      "cell_type": "markdown",
      "metadata": {
        "id": "6ylR8aSxIbKf"
      },
      "source": [
        "#### Import Required Libraries"
      ]
    },
    {
      "cell_type": "code",
      "source": [
        "# loading and handeling data\n",
        "import numpy as np\n",
        "import pandas as pd\n",
        "\n",
        "# scaling data\n",
        "from sklearn.preprocessing import StandardScaler\n",
        "\n",
        "# one hot encoding\n",
        "from sklearn.preprocessing import OneHotEncoder\n",
        "\n",
        "# downloading data\n",
        "from google.colab import drive"
      ],
      "metadata": {
        "id": "QVtrLcfxftWx"
      },
      "execution_count": null,
      "outputs": []
    },
    {
      "cell_type": "markdown",
      "metadata": {
        "id": "f3N4YRGJIrmz"
      },
      "source": [
        "#### Download Data From Kaggle\n"
      ]
    },
    {
      "cell_type": "code",
      "execution_count": null,
      "metadata": {
        "colab": {
          "base_uri": "https://localhost:8080/"
        },
        "id": "BbeUxY8jQlaw",
        "outputId": "95a1a61d-ae39-46a0-eed4-a968035b4132"
      },
      "outputs": [
        {
          "output_type": "stream",
          "name": "stdout",
          "text": [
            "Mounted at /content/drive\n"
          ]
        }
      ],
      "source": [
        "# Mount google drive to store Kaggle API for future use\n",
        "drive.mount('/content/drive')"
      ]
    },
    {
      "cell_type": "code",
      "execution_count": null,
      "metadata": {
        "id": "lBT6DitVROfT"
      },
      "outputs": [],
      "source": [
        "# make a directory for kaggle temporary instance location in Colab\n",
        "! mkdir ~/.kaggle"
      ]
    },
    {
      "cell_type": "code",
      "execution_count": null,
      "metadata": {
        "id": "bwWhYI4pRb9E"
      },
      "outputs": [],
      "source": [
        "# upload json fine to Google drive and copy the temporary location\n",
        "!cp /content/drive/MyDrive/Kaggle_API/kaggle.json ~/.kaggle/kaggle.json"
      ]
    },
    {
      "cell_type": "code",
      "execution_count": null,
      "metadata": {
        "id": "7ow7PgM9SCoI"
      },
      "outputs": [],
      "source": [
        "# change the file permissions to read/write to the owner only\n",
        "! chmod 600 ~/.kaggle/kaggle.json"
      ]
    },
    {
      "cell_type": "code",
      "execution_count": null,
      "metadata": {
        "colab": {
          "base_uri": "https://localhost:8080/"
        },
        "id": "2W-5-v-7SpZ7",
        "outputId": "6a50fcc4-9368-4570-b587-4db6e24d5abf"
      },
      "outputs": [
        {
          "output_type": "stream",
          "name": "stdout",
          "text": [
            "Downloading icr-identify-age-related-conditions.zip to /content\n",
            "\r  0% 0.00/150k [00:00<?, ?B/s]\n",
            "\r100% 150k/150k [00:00<00:00, 111MB/s]\n"
          ]
        }
      ],
      "source": [
        "# download the kaggle data\n",
        "! kaggle competitions download -c icr-identify-age-related-conditions"
      ]
    },
    {
      "cell_type": "code",
      "execution_count": null,
      "metadata": {
        "colab": {
          "base_uri": "https://localhost:8080/"
        },
        "id": "tv2ySNqtSxJy",
        "outputId": "7bea7c8b-65ef-4c3c-89a1-c46e221d8d5b"
      },
      "outputs": [
        {
          "output_type": "stream",
          "name": "stdout",
          "text": [
            "Archive:  icr-identify-age-related-conditions.zip\n",
            "  inflating: greeks.csv              \n",
            "  inflating: sample_submission.csv   \n",
            "  inflating: test.csv                \n",
            "  inflating: train.csv               \n"
          ]
        }
      ],
      "source": [
        "# unzip the data\n",
        "! unzip icr-identify-age-related-conditions.zip"
      ]
    },
    {
      "cell_type": "code",
      "execution_count": null,
      "metadata": {
        "id": "L5JLtC0lF8_I"
      },
      "outputs": [],
      "source": [
        "# create a function to read the data into a dataframe\n",
        "\n",
        "def read_function(csv_file):\n",
        "\n",
        "    return pd.read_csv(csv_file)\n",
        "\n",
        "raw_train = read_function('/content/train.csv')"
      ]
    },
    {
      "cell_type": "markdown",
      "metadata": {
        "id": "9m3vY6iSLGB5"
      },
      "source": [
        "##Preprocess and organize the data\n",
        "\n",
        "1) Fill null values with the mean of that column\n",
        "\n",
        "2) Drop the necessary rows / columns\n",
        "\n",
        "3) Save the preprocessed data to Google Drive"
      ]
    },
    {
      "cell_type": "markdown",
      "source": [
        "###Fill null values with the mean of that column"
      ],
      "metadata": {
        "id": "ZVp--bf2fZl2"
      }
    },
    {
      "cell_type": "code",
      "source": [
        "#fill the null values with the average of that columns values\n",
        "def fill_average(data_frame, columns_filled):\n",
        "  for column in columns_filled:\n",
        "      avg = data_frame[column].mean()\n",
        "      data_frame.fillna(value=avg, inplace=True)\n",
        "      print(f'Column {column} average: {avg}')\n",
        "\n",
        "fill_average(raw_train, ['BQ', 'CB', 'CC', 'DU', 'EL', 'FC', 'FL', 'FS', 'GL'])"
      ],
      "metadata": {
        "colab": {
          "base_uri": "https://localhost:8080/"
        },
        "id": "uESTrhbDrfhH",
        "outputId": "497545de-1326-4932-ee19-6bbedf6aa138"
      },
      "execution_count": null,
      "outputs": [
        {
          "output_type": "stream",
          "name": "stdout",
          "text": [
            "Column BQ average: 98.32873688509873\n",
            "Column CB average: 77.17295015521911\n",
            "Column CC average: 1.1635499699761689\n",
            "Column DU average: 1.9593442513534824\n",
            "Column EL average: 72.37800659903715\n",
            "Column FC average: 71.38526558328216\n",
            "Column FL average: 5.583758864943435\n",
            "Column FS average: 0.7388662929824918\n",
            "Column GL average: 8.676500164278929\n"
          ]
        }
      ]
    },
    {
      "cell_type": "markdown",
      "source": [
        "### Drop the necessary rows / columns"
      ],
      "metadata": {
        "id": "_hG3wEOw3y4N"
      }
    },
    {
      "cell_type": "code",
      "execution_count": null,
      "metadata": {
        "id": "IOm2e6cfHCoz",
        "colab": {
          "base_uri": "https://localhost:8080/"
        },
        "outputId": "34a3ad62-d7ef-437c-ea61-45600f746b58"
      },
      "outputs": [
        {
          "output_type": "stream",
          "name": "stdout",
          "text": [
            "The remaining colums are: Index(['AB', 'AF', 'AH', 'AM', 'AR', 'AX', 'AY', 'AZ', 'BC', 'BD ', 'BN', 'BP',\n",
            "       'BQ', 'BR', 'BZ', 'CB', 'CC', 'CD ', 'CF', 'CH', 'CL', 'CR', 'CS', 'CU',\n",
            "       'CW ', 'DA', 'DE', 'DF', 'DH', 'DI', 'DL', 'DN', 'DU', 'DV', 'DY', 'EB',\n",
            "       'EE', 'EG', 'EH', 'EJ', 'EL', 'EP', 'EU', 'FC', 'FD ', 'FE', 'FI', 'FL',\n",
            "       'FR', 'FS', 'GB', 'GE', 'GF', 'GH', 'GI', 'GL', 'Class'],\n",
            "      dtype='object')\n"
          ]
        }
      ],
      "source": [
        "# remove unnecessary columns\n",
        "def drop_columns(data_frame, col_name: list):\n",
        "  try:\n",
        "    data_frame = data_frame.drop(columns=col_name)\n",
        "    print(f'The remaining colums are: {data_frame.columns}')\n",
        "  except:\n",
        "    print(f'The column(s) have already been dropped, the remaining are: {data_frame.columns}')\n",
        "  return data_frame\n",
        "\n",
        "raw_train = drop_columns(raw_train, [\"Id\"])"
      ]
    },
    {
      "cell_type": "markdown",
      "source": [
        "###Save the preprocessed data to Google Drive"
      ],
      "metadata": {
        "id": "g_3v3jAQgS8C"
      }
    },
    {
      "cell_type": "code",
      "source": [
        "# export the data\n",
        "clean_train.to_csv('/content/drive/My Drive/ucla.edu_folder/ICR_Project/non_encoded_train_df.csv', index=False)\n",
        "\n",
        "#verify it was exported\n",
        "df_verify = pd.read_csv('/content/drive/My Drive/ucla.edu_folder/ICR_Project/non_encoded_train_df.csv')\n",
        "print(df_verify)"
      ],
      "metadata": {
        "id": "GDix2QbbjXYs",
        "colab": {
          "base_uri": "https://localhost:8080/"
        },
        "outputId": "be82b0fb-1443-4e7c-8d67-840c97df6fce"
      },
      "execution_count": null,
      "outputs": [
        {
          "output_type": "stream",
          "name": "stdout",
          "text": [
            "           AB          AF          AH          AM         AR        AX  \\\n",
            "0    0.209377  3109.03329   85.200147   22.394407   8.138688  0.699861   \n",
            "1    0.145282   978.76416   85.200147   36.968889   8.138688  3.632190   \n",
            "2    0.470030  2635.10654   85.200147   32.360553   8.138688  6.732840   \n",
            "3    0.252107  3819.65177  120.201618   77.112203   8.138688  3.685344   \n",
            "4    0.380297  3733.04844   85.200147   14.103738   8.138688  3.942255   \n",
            "..        ...         ...         ...         ...        ...       ...   \n",
            "612  0.149555  3130.05946  123.763599    9.513984  13.020852  3.499305   \n",
            "613  0.435846  5462.03438   85.200147   46.551007  15.973224  5.979825   \n",
            "614  0.427300  2459.10720  130.138587   55.355778  10.005552  8.070549   \n",
            "615  0.363205  1263.53524   85.200147   23.685856   8.138688  7.981959   \n",
            "616  0.482849  2672.53426  546.663930  112.006102   8.138688  3.198099   \n",
            "\n",
            "           AY         AZ          BC         BD   ...         FL        FR  \\\n",
            "0    0.025578   9.812214    5.555634  4126.58731  ...   7.298162   1.73855   \n",
            "1    0.025578  13.517790    1.229900  5496.92824  ...   0.173229   0.49706   \n",
            "2    0.025578  12.824570    1.229900  5135.78024  ...   7.709560   0.97556   \n",
            "3    0.025578  11.053708    1.229900  4169.67738  ...   6.122162   0.49706   \n",
            "4    0.054810   3.396778  102.151980  5728.73412  ...   8.153058  48.50134   \n",
            "..        ...        ...         ...         ...  ...        ...       ...   \n",
            "612  0.077343   8.545512    2.804172  4157.68439  ...   0.173229   1.26092   \n",
            "613  0.025882  12.622906    3.777550  5654.07556  ...  10.223150   1.24236   \n",
            "614  0.025578  15.408390    1.229900  5888.87769  ...   0.173229   0.49706   \n",
            "615  0.025578   7.524588    1.229900  4517.86560  ...   9.256996   0.78764   \n",
            "616  0.116928   3.396778    7.948668  2818.01707  ...   0.173229   1.14492   \n",
            "\n",
            "           FS         GB          GE            GF         GH          GI  \\\n",
            "0    0.094822  11.339138   72.611063   2003.810319  22.136229   69.834944   \n",
            "1    0.568932   9.292698   72.611063  27981.562750  29.135430   32.131996   \n",
            "2    1.198821  37.077772   88.609437  13676.957810  28.022851   35.192676   \n",
            "3    0.284466  18.529584   82.416803   2094.262452  39.948656   90.493248   \n",
            "4    0.121914  16.408728  146.109943   8524.370502  45.381316   36.262628   \n",
            "..        ...        ...         ...           ...        ...         ...   \n",
            "612  0.067730   8.967128  217.148554   8095.932828  24.640462   69.191944   \n",
            "613  0.426699  35.896418  496.994214   3085.308063  29.648928  124.808872   \n",
            "614  0.067730  19.962092  128.896894   6474.652866  26.166072  119.559420   \n",
            "615  0.670527  24.594488   72.611063   1965.343176  25.116750   37.155112   \n",
            "616  0.149006  13.673940   72.611063   6850.484442  45.745974  114.842372   \n",
            "\n",
            "            GL  Class  \n",
            "0     0.120343      1  \n",
            "1    21.978000      0  \n",
            "2     0.196941      0  \n",
            "3     0.155829      0  \n",
            "4     0.096614      1  \n",
            "..         ...    ...  \n",
            "612  21.978000      0  \n",
            "613   0.145340      0  \n",
            "614  21.978000      0  \n",
            "615   0.184622      0  \n",
            "616  21.978000      0  \n",
            "\n",
            "[617 rows x 57 columns]\n"
          ]
        }
      ]
    }
  ],
  "metadata": {
    "accelerator": "GPU",
    "colab": {
      "provenance": [],
      "include_colab_link": true
    },
    "kernelspec": {
      "display_name": "Python 3",
      "name": "python3"
    },
    "language_info": {
      "name": "python"
    }
  },
  "nbformat": 4,
  "nbformat_minor": 0
}